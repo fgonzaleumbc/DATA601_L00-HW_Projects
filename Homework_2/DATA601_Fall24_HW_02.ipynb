{
 "cells": [
  {
   "cell_type": "markdown",
   "metadata": {
    "id": "Goo3q0wMNfTX"
   },
   "source": [
    "## DATA 601 - Fall 2024\n",
    "### Homework Assignment 2\n",
    "\n",
    "#### Due-date: Monday 9/30/2024 midnight.\n",
    "\n",
    "Please Save a copy of this notebook to modify and submit your homework. Rename the file accordingly. If using Colab, \"Open in Colab\" link on the left top of this notebook to save a copy of this notebook to your \"Colab Notebooks\" under your Google Drive, and rename it. \n",
    "\n",
    "Please provide your solutions cells after each question. You can create new cells as needed. <br>\n",
    "\n",
    "Please return your notebook by the due date via by emailing the grader and CC instructor.  as a *.ipynb file) via Email or Blackboard. The name of your notebook should be in the following format: YourLastname_HW02.ipynb (e.g. Gonzalez_HW02.ipyn).\n",
    "\n",
    "Make sure that your code is in a working condition when you restart the kernel. Notebooks are great tools for exploration but we should be very careful as we are writing codes.\n",
    "\n",
    "<b>Intro:</b> For this homework, you will install a module called \"names\". Please visit [https://pypi.org/project/names/](https://pypi.org/project/names/) and see section \"Python Package Usage\" to learn how to use this module to create random names. To install and import this \"names\" module, we do the following"
   ]
  },
  {
   "cell_type": "code",
   "execution_count": null,
   "metadata": {
    "colab": {
     "base_uri": "https://localhost:8080/"
    },
    "id": "8lJtTfpFkYBR",
    "outputId": "46277237-1357-4dd8-9d9f-fa5172805259"
   },
   "outputs": [],
   "source": [
    "# To install \"names\" library Uncomment and run this cell to install the Names library.\n",
    "#!pip install names\n",
    "\n",
    "# After installing comment out the line above."
   ]
  },
  {
   "cell_type": "code",
   "execution_count": null,
   "metadata": {},
   "outputs": [],
   "source": [
    "# After installation import the \"names\" library."
   ]
  },
  {
   "cell_type": "markdown",
   "metadata": {
    "id": "TIXQsfmky_1m"
   },
   "source": [
    "Q1. [<span style=\"color: red;\"> 20 points</span>] After successful installation, import the module first, then use the \"get_first_name\" function in the \"names\" module and create a list of 8 first-names. Name of this list should be \"fname\". \n",
    "- Print your list and make sure that you indeed have 8 names in your list.\n",
    "- (i) Remove the last \"first-name\" from your \"fname\" list. \n",
    "- (ii) Insert a new first-name between the first and second first-names in the list. \n",
    "- (iii) Remove the third \"first-name\". \n",
    "- (iv)  Generate three random first names, print them, and then add three first names at the end of your \"fname\" list using the \"append\" command.\n",
    "- (v) Remove those last three first names. Create a secondary a list of first-names with three new first-names. Add these three at the end of your \"fname\" list with the \"extend\" method. Comment when we should use \"append\" and we should use \"extend\"."
   ]
  },
  {
   "cell_type": "code",
   "execution_count": null,
   "metadata": {
    "id": "cOP6c2uSvrHu"
   },
   "outputs": [],
   "source": []
  },
  {
   "cell_type": "markdown",
   "metadata": {
    "id": "x4G_nlSYyeNv"
   },
   "source": [
    "Q2. [<span style=\"color: red;\">5 points</span>] Use the \"get_last_name\" function in the \"names\" module and create a list of 10 last names. Name it \"lnames\". Sort it alphabetically."
   ]
  },
  {
   "cell_type": "code",
   "execution_count": null,
   "metadata": {
    "id": "ap38ArkwNv36"
   },
   "outputs": [],
   "source": []
  },
  {
   "cell_type": "markdown",
   "metadata": {
    "id": "eLHHYiqKygmy"
   },
   "source": [
    "Q3. [<span style=\"color: red;\">20 points</span>] For this step, you will use the \"<code>randint</code>\" function from the \"<code>random</code>\" module to create random integers. You can learn more about this module at [https://docs.python.org/3/library/random.html](https://docs.python.org/3/library/random.html). To import the \"<code>randint</code>\" function from the \"<code>random</code>\" module, please type <code> from random import randit</code> in a cell, and press shift+enter.\n",
    "\n",
    "Then\n",
    " - (i) Create 10 random birth-years between 1950 and 2021. Name it \"byears\".\n",
    " - (ii) Create 10 random birth-months between 1 and 12. Name it \"bmonths\".\n",
    " - (iii) Create 10 random Credit-Scores between 100 and 800. Create a list of \"CreditApproval\" with \"Yes\" if the credit-score is higher than 650, \"No\" otherwise. Make sure that someone can't get a credit if they are 17 years old or younger, even if their credit-score is higher than 650."
   ]
  },
  {
   "cell_type": "code",
   "execution_count": null,
   "metadata": {
    "id": "oho9siU9yhOs"
   },
   "outputs": [],
   "source": []
  },
  {
   "cell_type": "markdown",
   "metadata": {
    "id": "KNBw55XRyhYA"
   },
   "source": [
    "Q4. [<span style=\"color: red;\">15 points</span>] Create a dictionary for these 10 people with first-name, last-name (again, you will need to use the <code>names</code> module to create random first and last names), birth-year, birth-month, Credit, CreditApproval (e.g. [fname: Michael, lname: Jackson, byear: 1958, bmonth: 8, bday: 29, creditapproval:yes],[...])\n",
    "\n",
    "The values of birth-year, birth-month, credit and credit approval can be any realistic values. Please document as a comment what you believe are realistic values for each of the categories."
   ]
  },
  {
   "cell_type": "code",
   "execution_count": null,
   "metadata": {
    "id": "bSOZ9xL5yhhJ"
   },
   "outputs": [],
   "source": [
    " "
   ]
  },
  {
   "cell_type": "markdown",
   "metadata": {
    "id": "nTMv1diFyjwE"
   },
   "source": [
    "# NOTEBOOK END."
   ]
  },
  {
   "cell_type": "code",
   "execution_count": null,
   "metadata": {},
   "outputs": [],
   "source": []
  },
  {
   "cell_type": "code",
   "execution_count": null,
   "metadata": {},
   "outputs": [],
   "source": []
  },
  {
   "cell_type": "code",
   "execution_count": null,
   "metadata": {},
   "outputs": [],
   "source": []
  }
 ],
 "metadata": {
  "colab": {
   "authorship_tag": "ABX9TyODZOQtTncp1L47rraRdA2J",
   "collapsed_sections": [],
   "include_colab_link": true,
   "name": "DATA601Sp22_HW01.ipynb",
   "provenance": []
  },
  "kernelspec": {
   "display_name": "Python 3 (ipykernel)",
   "language": "python",
   "name": "python3"
  },
  "language_info": {
   "codemirror_mode": {
    "name": "ipython",
    "version": 3
   },
   "file_extension": ".py",
   "mimetype": "text/x-python",
   "name": "python",
   "nbconvert_exporter": "python",
   "pygments_lexer": "ipython3",
   "version": "3.12.4"
  }
 },
 "nbformat": 4,
 "nbformat_minor": 4
}
