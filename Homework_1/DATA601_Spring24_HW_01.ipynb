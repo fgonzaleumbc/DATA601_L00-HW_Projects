{
 "cells": [
  {
   "cell_type": "markdown",
   "id": "e5c54799",
   "metadata": {},
   "source": [
    "# STUDENT NAME AND INFORMATION"
   ]
  },
  {
   "cell_type": "markdown",
   "id": "c2845666",
   "metadata": {},
   "source": [
    "Note: For the cell above, feel free to use the markdown code from the class Jupyter Notebook and modify it with your information. "
   ]
  },
  {
   "cell_type": "markdown",
   "id": "1d9388a3",
   "metadata": {},
   "source": [
    "## DATA 601 - Fall 2024\n",
    "### Homework Assignment 1\n",
    "\n",
    "#### Due-date: Monday 9/23/2024 midnight.\n",
    "The excercises in this homework provide instruction on what to do. Feel free to add as many code or markdown cells as you need. The main objective of this homework is to make sure all students have a working version of Jupyter Notebook and Python and know how to do basic tasks.\n",
    "\n",
    "The excercises here are minimum reproducible examples. They are short but once the script is developed, if developed correctly will work with any sentence regardless of how long it is or with any number of elements in a list. "
   ]
  },
  {
   "cell_type": "markdown",
   "id": "cc1e227a",
   "metadata": {},
   "source": [
    "#### Excercise 1: (3 Points)\n",
    "Define a variable (with the name of your choosing) for the following sentence: 'This_is_a_sentence_for_the_mini-lab'"
   ]
  },
  {
   "cell_type": "code",
   "execution_count": null,
   "id": "4f9afa1f",
   "metadata": {},
   "outputs": [],
   "source": []
  },
  {
   "cell_type": "markdown",
   "id": "12a46ddd",
   "metadata": {},
   "source": [
    "#### Excercise 2: (3 Points)\n",
    "Given the sentence in the variable above, calculate how many characters the sentence has using the len() function."
   ]
  },
  {
   "cell_type": "code",
   "execution_count": null,
   "id": "765551c7",
   "metadata": {},
   "outputs": [],
   "source": []
  },
  {
   "cell_type": "markdown",
   "id": "bdb4205e",
   "metadata": {},
   "source": [
    "#### Excercise 3: (5 points)\n",
    "Create a a new list from the sentence above were each word is a separate element in the list. There may be few ways to do this.\n",
    "- The replace function can be used to replace the undersore and then use the split function with default parameters\n",
    "- Use the split function but modifying the separator parameter in the split funciton."
   ]
  },
  {
   "cell_type": "markdown",
   "id": "d7cf9363",
   "metadata": {},
   "source": [
    "#### Excercise 4: (5 points)\n",
    "Count how many words the sentence has. Could use the len() on the new list of the words. Alternatively one could also count  count how many undersorse (or spaces) from the original sentence and correct for + 1. Think about this.  "
   ]
  },
  {
   "cell_type": "markdown",
   "id": "bd3dc915",
   "metadata": {},
   "source": [
    "#### Excercise 5: (10 points)\n",
    "Define a list with the following names: 'Liam', 'Olivia', 'Emma', 'Noah', 'Elijah', 'Amelia'.  Create a new list that only has the names of the elements in the odd indexes or odd positions. Name as many variables that you need to name.\n",
    "- To define a list use the square brackets [].\n",
    "- If using a for loop you can use the range() function to tell the loop where to start.\n",
    "- If using a while loop you can adjust the counter accordingly.\n",
    "- There may be other alternatives using some of the discussed functions in lists.\n",
    "\n",
    "The result of the new list should be ['Olivia', 'Noah', 'Amelia']."
   ]
  },
  {
   "cell_type": "code",
   "execution_count": null,
   "id": "b3d75434",
   "metadata": {},
   "outputs": [],
   "source": []
  },
  {
   "cell_type": "markdown",
   "id": "915d1d5c",
   "metadata": {},
   "source": [
    "# NOTEBOOK END."
   ]
  },
  {
   "cell_type": "code",
   "execution_count": null,
   "id": "1e00273d",
   "metadata": {},
   "outputs": [],
   "source": []
  },
  {
   "cell_type": "code",
   "execution_count": null,
   "id": "e73bf03d",
   "metadata": {},
   "outputs": [],
   "source": []
  },
  {
   "cell_type": "code",
   "execution_count": null,
   "id": "ecc6110e",
   "metadata": {},
   "outputs": [],
   "source": []
  }
 ],
 "metadata": {
  "kernelspec": {
   "display_name": "Python 3 (ipykernel)",
   "language": "python",
   "name": "python3"
  },
  "language_info": {
   "codemirror_mode": {
    "name": "ipython",
    "version": 3
   },
   "file_extension": ".py",
   "mimetype": "text/x-python",
   "name": "python",
   "nbconvert_exporter": "python",
   "pygments_lexer": "ipython3",
   "version": "3.12.4"
  }
 },
 "nbformat": 4,
 "nbformat_minor": 5
}
