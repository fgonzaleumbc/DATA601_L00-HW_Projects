{
 "cells": [
  {
   "cell_type": "markdown",
   "metadata": {
    "id": "Goo3q0wMNfTX"
   },
   "source": [
    "## DATA 601 - Fall 2024\n",
    "### Homework Assignment 3\n",
    "\n",
    "#### Due-date: Monday 10/7/2024 midnight.\n",
    "\n",
    "Please Save a copy of this notebook to modify and submit your homework. Rename the file accordingly. If using Colab, \"Open in Colab\" link on the left top of this notebook to save a copy of this notebook to your \"Colab Notebooks\" under your Google Drive, and rename it. \n",
    "\n",
    "Please provide your solutions cells after each question. You can create new cells as needed. <br>\n",
    "\n",
    "Please return your notebook by the due date via by emailing the grader and CC instructor as a *.ipynb file) via email or Blackboard. The name of your notebook should be in the following format: YourLastname_HW01.ipynb (e.g. Gonzalez_HW01.ipyn).\n",
    "\n",
    "Make sure that your code is in a working condition when you restart the kernel. Notebooks are great tools for exploration but we should be very careful as we are writing codes.\n",
    "\n",
    "<b>Intro:</b> For this homework you are given a list of file names. You will need to first fix the issues with the trailing spaces. You will need to create a new list that only contains the csv files and another list that contains all the other files (except the csv file names). For the CSV files you will create a dictionary with the name of the filename and the year. \n",
    "\n",
    "To accomplish this you need to use the functions, techniques and/or methods that we learn in class. There may be various ways to accomplish this. __You CANNOT create the list or dictionary by copy/paste or typing.__"
   ]
  },
  {
   "cell_type": "code",
   "execution_count": null,
   "metadata": {
    "colab": {
     "base_uri": "https://localhost:8080/"
    },
    "id": "8lJtTfpFkYBR",
    "outputId": "46277237-1357-4dd8-9d9f-fa5172805259"
   },
   "outputs": [],
   "source": [
    "file_names = ['2021_car_accidents.csv', \n",
    "              '2021_car_accidents_report.pdf     ',\n",
    "              '2020_car_accidents_report.txt      ',\n",
    "              '2020_car_accidents_report.pdf',\n",
    "              '2019_car_accidents.csv',\n",
    "              '2019_car_accidents_report.pdf',\n",
    "              '2017_car_accidents.csv',\n",
    "              '2016_car_accidents.csv',\n",
    "              '2016_car_accidents_report.txt     ',\n",
    "              '2016_car_accidents_report.pdf',\n",
    "              '2015_car_accidents_report.txt',\n",
    "              '2003_car_accidents.csv',\n",
    "              '2014_car_accidents.csv',\n",
    "              '2013_car_accidents_report.txt',\n",
    "              '2013_car_accidents.csv',\n",
    "              '2012_car_accidents.xlsx',\n",
    "              '2012_car_accidents_report.pdf',\n",
    "              '2011_car_accidents.csv',\n",
    "              '2011_car_accidents_report.pdf',\n",
    "              '2010_car_accidents.csv',\n",
    "              '2009_car_accidents_report.txt',\n",
    "              '2009_car_accidents.csv     ',\n",
    "              '2008_car_accidents_report.pdf',\n",
    "              '2008_car_accidents_report.txt      ',\n",
    "              '2007_car_accidents_report.pdf',\n",
    "              '2007_car_accidents.csv',\n",
    "              '2006_car_accidents.csv',\n",
    "              '2006_car_accidents_report.txt',\n",
    "              '2005_car_accidents.csv',\n",
    "              '2005_car_accidents_report.txt',\n",
    "              '2004_car_accidents.csv',\n",
    "              '2004_car_accidents.xlsx',\n",
    "              '2004_car_accidents_report.pdf',\n",
    "              '2003_car_accidents.csv',\n",
    "              '2016_car_accidents_report.pdf',\n",
    "              '2003_car_accidents_report.pdf',\n",
    "              '2002_car_accidents.csv',\n",
    "              '2001_car_accidents_report.txt',\n",
    "              '2001_car_accidents.csv     ',\n",
    "              '2001_car_accidents_report.pdf'\n",
    "             ]"
   ]
  },
  {
   "cell_type": "markdown",
   "metadata": {},
   "source": [
    "Q1 [10 points] Fix the list so that the the filenames that have trailing spaces don't have them."
   ]
  },
  {
   "cell_type": "markdown",
   "metadata": {},
   "source": [
    "Q2 [10 points] From the list of file_names above, create a new list that only contains the csv filenames."
   ]
  },
  {
   "cell_type": "markdown",
   "metadata": {},
   "source": [
    "Q3 [10 points] From the list of file_names above, create a new list that only contains any filenames EXCEPT the csv files."
   ]
  },
  {
   "cell_type": "markdown",
   "metadata": {},
   "source": [
    "Q4 [15 points] From the list of csv file_names create a dictionary that has the year and the filename as separate keys as shown below."
   ]
  },
  {
   "attachments": {
    "image-2.png": {
     "image/png": "[encoded data removed]"
    }
   },
   "cell_type": "markdown",
   "metadata": {},
   "source": [
    "![image-2.png](attachment:image-2.png)"
   ]
  },
  {
   "cell_type": "markdown",
   "metadata": {},
   "source": [
    "Q5 [5 points] Evaluate if there are any repeated filenames and only keep one. Ideally this would be accomplished either before or after the task in Q1. In some cases there may be issues with filenames and spaces and you may need to decide when to check for duplicates (i.e., before or after fixing trailing spaces, or before and after). Create a variable that counts how many duplicates the initial list had.\n",
    "\n",
    "Hint: If you don't know what to do, do the following search in the internet search engine of your choice: \"python remove duplicates from list\". You should be able to figure out by reading the first few examples. If you use any approach in a website please reference the source in your work."
   ]
  },
  {
   "cell_type": "markdown",
   "metadata": {
    "id": "nTMv1diFyjwE"
   },
   "source": [
    "# NOTEBOOK END."
   ]
  },
  {
   "cell_type": "code",
   "execution_count": null,
   "metadata": {},
   "outputs": [],
   "source": []
  },
  {
   "cell_type": "code",
   "execution_count": null,
   "metadata": {},
   "outputs": [],
   "source": []
  },
  {
   "cell_type": "code",
   "execution_count": null,
   "metadata": {},
   "outputs": [],
   "source": []
  }
 ],
 "metadata": {
  "colab": {
   "authorship_tag": "ABX9TyODZOQtTncp1L47rraRdA2J",
   "collapsed_sections": [],
   "include_colab_link": true,
   "name": "DATA601Sp22_HW01.ipynb",
   "provenance": []
  },
  "kernelspec": {
   "display_name": "Python 3 (ipykernel)",
   "language": "python",
   "name": "python3"
  },
  "language_info": {
   "codemirror_mode": {
    "name": "ipython",
    "version": 3
   },
   "file_extension": ".py",
   "mimetype": "text/x-python",
   "name": "python",
   "nbconvert_exporter": "python",
   "pygments_lexer": "ipython3",
   "version": "3.12.4"
  }
 },
 "nbformat": 4,
 "nbformat_minor": 4
}
