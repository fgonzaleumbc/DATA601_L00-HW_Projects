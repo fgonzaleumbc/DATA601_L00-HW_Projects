{
 "cells": [
  {
   "cell_type": "markdown",
   "id": "4b3ac7ec",
   "metadata": {},
   "source": [
    "# STUDENT NAME AND INFORMATION\n",
    "\n",
    "### Due Date: Monday October/14/2024"
   ]
  },
  {
   "cell_type": "markdown",
   "id": "fc13d4f3",
   "metadata": {},
   "source": [
    "Note: For the cell above, feel free to use the markdown code from the class Jupyter Notebook and modify it with your information. "
   ]
  },
  {
   "cell_type": "markdown",
   "id": "07d980cd",
   "metadata": {},
   "source": [
    "Please Save a copy of this notebook to modify and submit your homework. Rename the file accordingly. If using Colab, \"Open in Colab\" link on the left top of this notebook to save a copy of this notebook to your \"Colab Notebooks\" under your Google Drive, and rename it. \n",
    "\n",
    "Please provide your solutions cells after each question. You can create new cells as needed. <br>\n",
    "\n",
    "Please return your notebook by the due date via by emailing the grader and CC instructor as a *.ipynb file) via email or Blackboard. The name of your notebook should be in the following format: YourLastname_HW01.ipynb (e.g. Gonzalez_HW01.ipyn).\n",
    "\n",
    "Make sure that your code is in a working condition when you restart the kernel. Notebooks are great tools for exploration but we should be very careful as we are writing codes."
   ]
  },
  {
   "cell_type": "markdown",
   "id": "54d75139",
   "metadata": {},
   "source": [
    "# Dataset Source: \n",
    "\n",
    "This HW will use the Titanic dataset which is a common dataset used in data science. Please use the file \"titanic.csv\" in the input_data folder."
   ]
  },
  {
   "cell_type": "markdown",
   "id": "3d6be53e",
   "metadata": {},
   "source": [
    "Citation:\n",
    "\n",
    "The original Titanic dataset, describing the survival status of individual passengers on the Titanic. The titanic data does not contain information from the crew, but it does contain actual ages of half of the passengers. The principal source for data about Titanic passengers is the Encyclopedia Titanica. The datasets used here were begun by a variety of researchers. One of the original sources is Eaton & Haas (1994) Titanic: Triumph and Tragedy, Patrick Stephens Ltd, which includes a passenger list created by many researchers and edited by Michael A. Findlay.\n",
    "\n",
    "Thomas Cason of UVa has greatly updated and improved the titanic data frame using the Encyclopedia Titanica and created the dataset here. Some duplicate passengers have been dropped, many errors corrected, many missing ages filled in, and new variables created.\n",
    "\n",
    "Attribute information\n",
    "The variables on our extracted dataset are pclass, survived, name, age, embarked, home.dest, room, ticket, boat, and sex. pclass refers to passenger class (1st, 2nd, 3rd), and is a proxy for socio-economic class. Age is in years, and some infants had fractional values. The titanic2 data frame has no missing data and includes records for the crew, but age is dichotomized at adult vs. child. These data were obtained from Robert Dawson, Saint Mary's University, E-mail. The variables are pclass, age, sex, survived. These data frames are useful for demonstrating many of the functions in Hmisc as well as demonstrating binary logistic regression analysis using the Design library. For more details and references see Simonoff, Jeffrey S (1997): The \"unusual episode\" and a second statistics course. J Statistics Education, Vol. 5 No. 1.\n",
    "\n",
    "For more information about how this dataset was constructed: http://biostat.mc.vanderbilt.edu/wiki/pub/Main/DataSets/titanic3info.txt\n",
    "\n",
    "Other Titanic Dataset Information Sources:\n",
    "- https://www.openml.org/search?type=data&sort=runs&id=40945&status=active\n",
    "- https://www.kaggle.com/competitions/titanic/data?select=gender_submission.csv"
   ]
  },
  {
   "cell_type": "markdown",
   "id": "1628b9cf",
   "metadata": {},
   "source": [
    "# Homework Questions:"
   ]
  },
  {
   "cell_type": "markdown",
   "id": "c00d1557",
   "metadata": {},
   "source": [
    "#### Question 1 (3 points): Load file and name it \"df_titanic_1\"."
   ]
  },
  {
   "cell_type": "markdown",
   "id": "3f2a1cf0",
   "metadata": {},
   "source": [
    "#### Question 2 (3 points): Provide a sample of the dataframe (i.e., the output should be at least 5 rows of data with the columns)."
   ]
  },
  {
   "cell_type": "markdown",
   "id": "7164cc0b",
   "metadata": {},
   "source": [
    "#### Question 3 (4 points): Calculate number of rows and of columns."
   ]
  },
  {
   "cell_type": "markdown",
   "id": "9bfa0cdb",
   "metadata": {},
   "source": [
    "#### Question 4 (3 points): Show the datatypes of each column. "
   ]
  },
  {
   "cell_type": "markdown",
   "id": "7045be28",
   "metadata": {},
   "source": [
    "#### Question 5 (3 points): Provide some discussion and thoughts on the column cabin. Does it provide any useful information? Should it be removed? Should it be kept? \n",
    "*Note: Question 6 is irrelevant to this question. "
   ]
  },
  {
   "cell_type": "markdown",
   "id": "a9847f6c",
   "metadata": {},
   "source": [
    "#### Question 6 (3 points): Remove Colum \"cabin\" from df_titanic_1."
   ]
  },
  {
   "cell_type": "markdown",
   "id": "2424a856",
   "metadata": {},
   "source": [
    "#### Question 7 (3 points): Create a dataframe called df_passenger_info whcih includes columns \"passenger\", \"name\", \"sex\", and \"age\"."
   ]
  },
  {
   "cell_type": "markdown",
   "id": "1e8d79ec",
   "metadata": {},
   "source": [
    "#### Question 8 (3 points): Convert the df_passenger_info to a dictionary."
   ]
  },
  {
   "cell_type": "markdown",
   "id": "d38cd358",
   "metadata": {},
   "source": [
    "#### Question 9 (5 points): Create a dataframe called \"df_titanic_2\" that is filtering for passengers that paid a fare higher than 10 AND have an age less than 50."
   ]
  },
  {
   "cell_type": "markdown",
   "id": "91e46e46",
   "metadata": {},
   "source": [
    "#### Question 10 (5 points): Sort df_titanic_2 by 'age' column in ascending order."
   ]
  },
  {
   "cell_type": "markdown",
   "id": "5c10f5dc",
   "metadata": {},
   "source": [
    "#### Question 11 (5 points): Export the \"df_titanic_2\" as a csv and put in output_data folder"
   ]
  },
  {
   "cell_type": "markdown",
   "id": "d41b6c55",
   "metadata": {},
   "source": [
    "#### Question 12 (5 points): Export the \"df_passenger_info\" as a JSON put in output_data folder"
   ]
  },
  {
   "cell_type": "markdown",
   "id": "2b8af450",
   "metadata": {},
   "source": [
    "# NOTEBOOK END"
   ]
  },
  {
   "cell_type": "code",
   "execution_count": null,
   "id": "13263d4a",
   "metadata": {},
   "outputs": [],
   "source": []
  },
  {
   "cell_type": "code",
   "execution_count": null,
   "id": "bfeec93c",
   "metadata": {},
   "outputs": [],
   "source": []
  },
  {
   "cell_type": "code",
   "execution_count": null,
   "id": "79a67e78",
   "metadata": {},
   "outputs": [],
   "source": []
  }
 ],
 "metadata": {
  "kernelspec": {
   "display_name": "Python 3 (ipykernel)",
   "language": "python",
   "name": "python3"
  },
  "language_info": {
   "codemirror_mode": {
    "name": "ipython",
    "version": 3
   },
   "file_extension": ".py",
   "mimetype": "text/x-python",
   "name": "python",
   "nbconvert_exporter": "python",
   "pygments_lexer": "ipython3",
   "version": "3.12.4"
  }
 },
 "nbformat": 4,
 "nbformat_minor": 5
}
